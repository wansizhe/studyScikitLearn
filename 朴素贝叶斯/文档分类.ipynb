{
 "cells": [
  {
   "cell_type": "code",
   "execution_count": 1,
   "metadata": {},
   "outputs": [],
   "source": [
    "%matplotlib inline\n",
    "import numpy as np\n",
    "import matplotlib.pyplot as plt"
   ]
  },
  {
   "cell_type": "code",
   "execution_count": 2,
   "metadata": {},
   "outputs": [],
   "source": [
    "from time import time\n",
    "from sklearn.datasets import load_files"
   ]
  },
  {
   "cell_type": "code",
   "execution_count": 3,
   "metadata": {},
   "outputs": [
    {
     "name": "stdout",
     "output_type": "stream",
     "text": [
      "loading train dataset ...\n",
      "summary: 13180 documents in 20 categories.\n",
      "done in 0.5540189743041992 seconds.\n"
     ]
    }
   ],
   "source": [
    "print('loading train dataset ...')\n",
    "t = time()\n",
    "new_train = load_files('../../data/379/train')\n",
    "print('summary: {0} documents in {1} categories.'.format(\n",
    "    len(new_train.data), len(new_train.target_names)\n",
    "))\n",
    "print('done in {0} seconds.'.format(time() - t))"
   ]
  },
  {
   "cell_type": "code",
   "execution_count": 4,
   "metadata": {},
   "outputs": [],
   "source": [
    "from sklearn.feature_extraction.text import TfidfVectorizer"
   ]
  },
  {
   "cell_type": "code",
   "execution_count": 5,
   "metadata": {},
   "outputs": [
    {
     "name": "stdout",
     "output_type": "stream",
     "text": [
      "vectorizing train dataset ...\n",
      "n_samples: 13180, n_features: 130274\n",
      "number of non-zero features in sample [../../data/379/train/talk.politics.misc/17860-178992]: 108\n",
      "done in 3.2455573081970215 seconds\n"
     ]
    }
   ],
   "source": [
    "print('vectorizing train dataset ...')\n",
    "t = time()\n",
    "vectorizer = TfidfVectorizer(encoding='latin-1')\n",
    "X_train = vectorizer.fit_transform((d for d in new_train.data))\n",
    "print('n_samples: %d, n_features: %d' % X_train.shape)\n",
    "print('number of non-zero features in sample [{0}]: {1}'.format(\n",
    "    new_train.filenames[0], X_train[0].getnnz()\n",
    "))\n",
    "print('done in {0} seconds'.format(time() - t))"
   ]
  },
  {
   "cell_type": "code",
   "execution_count": 6,
   "metadata": {},
   "outputs": [],
   "source": [
    "from sklearn.naive_bayes import MultinomialNB"
   ]
  },
  {
   "cell_type": "code",
   "execution_count": 7,
   "metadata": {},
   "outputs": [
    {
     "name": "stdout",
     "output_type": "stream",
     "text": [
      "trianing models ...\n",
      "train score: 0.9978755690440061\n",
      "done in 0.20667695999145508 seconds\n"
     ]
    }
   ],
   "source": [
    "print('trianing models ...'.format(time() - t))\n",
    "t = time()\n",
    "y_train = new_train.target\n",
    "clf = MultinomialNB(alpha=0.0001)\n",
    "clf.fit(X_train, y_train)\n",
    "train_score = clf.score(X_train, y_train)\n",
    "print('train score: {0}'.format(train_score))\n",
    "print('done in {0} seconds'.format(time() - t))"
   ]
  },
  {
   "cell_type": "code",
   "execution_count": 8,
   "metadata": {},
   "outputs": [
    {
     "name": "stdout",
     "output_type": "stream",
     "text": [
      "loading test dataset ...\n",
      "summary 5648 documents in 20 categories.\n",
      "done in 0.23740887641906738 seconds\n"
     ]
    }
   ],
   "source": [
    "print('loading test dataset ...')\n",
    "t = time()\n",
    "new_test = load_files('../../data/379/test')\n",
    "print('summary {0} documents in {1} categories.'.format(\n",
    "    len(new_test.data), len(new_test.target_names)\n",
    "))\n",
    "print('done in {0} seconds'.format(time() - t))"
   ]
  },
  {
   "cell_type": "code",
   "execution_count": 11,
   "metadata": {},
   "outputs": [
    {
     "name": "stdout",
     "output_type": "stream",
     "text": [
      "vectorizing test dataset ...\n",
      "n_samples: 5648, n_features: 130274\n",
      "number of non-zero features in sample [../../data/379/test/rec.autos/7429-103268]: 61\n",
      "done in 1.166650s\n"
     ]
    }
   ],
   "source": [
    "print('vectorizing test dataset ...')\n",
    "t = time()\n",
    "X_test = vectorizer.transform((d for d in new_test.data))\n",
    "y_test = new_test.target\n",
    "print('n_samples: %d, n_features: %d' % X_test.shape)\n",
    "print('number of non-zero features in sample [{0}]: {1}'.format(\n",
    "    new_test.filenames[0], X_test[0].getnnz()\n",
    "))\n",
    "print('done in %fs' % (time() - t))"
   ]
  },
  {
   "cell_type": "code",
   "execution_count": 12,
   "metadata": {},
   "outputs": [
    {
     "name": "stdout",
     "output_type": "stream",
     "text": [
      "predict: ../../data/379/test/rec.autos/7429-103268 is in category rec.autos\n",
      "actually: ../../data/379/test/rec.autos/7429-103268 is in category rec.autos\n"
     ]
    }
   ],
   "source": [
    "pred = clf.predict(X_test[0])\n",
    "print('predict: {0} is in category {1}'.format(\n",
    "    new_test.filenames[0], new_test.target_names[pred[0]]\n",
    "))\n",
    "print('actually: {0} is in category {1}'.format(\n",
    "    new_test.filenames[0], new_test.target_names[new_test.target[0]]\n",
    "))"
   ]
  },
  {
   "cell_type": "code",
   "execution_count": 13,
   "metadata": {},
   "outputs": [
    {
     "name": "stdout",
     "output_type": "stream",
     "text": [
      "predicting test dataset ...\n",
      "done in 0.034269s\n"
     ]
    }
   ],
   "source": [
    "print('predicting test dataset ...')\n",
    "t0 = time()\n",
    "pred = clf.predict(X_test)\n",
    "print('done in %fs' % (time() - t0))"
   ]
  },
  {
   "cell_type": "code",
   "execution_count": 15,
   "metadata": {},
   "outputs": [],
   "source": [
    "from sklearn.metrics import classification_report"
   ]
  },
  {
   "cell_type": "code",
   "execution_count": 16,
   "metadata": {},
   "outputs": [
    {
     "name": "stdout",
     "output_type": "stream",
     "text": [
      "classification report on test set for classifier:\n",
      "MultinomialNB(alpha=0.0001, class_prior=None, fit_prior=True)\n",
      "                          precision    recall  f1-score   support\n",
      "\n",
      "             alt.atheism       0.90      0.91      0.91       245\n",
      "           comp.graphics       0.80      0.90      0.85       298\n",
      " comp.os.ms-windows.misc       0.82      0.79      0.80       292\n",
      "comp.sys.ibm.pc.hardware       0.81      0.80      0.81       301\n",
      "   comp.sys.mac.hardware       0.90      0.91      0.91       256\n",
      "          comp.windows.x       0.88      0.88      0.88       297\n",
      "            misc.forsale       0.87      0.81      0.84       290\n",
      "               rec.autos       0.92      0.93      0.92       324\n",
      "         rec.motorcycles       0.96      0.96      0.96       294\n",
      "      rec.sport.baseball       0.97      0.94      0.96       315\n",
      "        rec.sport.hockey       0.96      0.99      0.98       302\n",
      "               sci.crypt       0.95      0.96      0.95       297\n",
      "         sci.electronics       0.91      0.85      0.88       313\n",
      "                 sci.med       0.96      0.96      0.96       277\n",
      "               sci.space       0.94      0.97      0.96       305\n",
      "  soc.religion.christian       0.93      0.96      0.94       293\n",
      "      talk.politics.guns       0.91      0.96      0.93       246\n",
      "   talk.politics.mideast       0.96      0.98      0.97       296\n",
      "      talk.politics.misc       0.90      0.90      0.90       236\n",
      "      talk.religion.misc       0.89      0.78      0.83       171\n",
      "\n",
      "               micro avg       0.91      0.91      0.91      5648\n",
      "               macro avg       0.91      0.91      0.91      5648\n",
      "            weighted avg       0.91      0.91      0.91      5648\n",
      "\n"
     ]
    }
   ],
   "source": [
    "print('classification report on test set for classifier:')\n",
    "print(clf)\n",
    "print(classification_report(y_test, pred, target_names=new_test.target_names))"
   ]
  },
  {
   "cell_type": "code",
   "execution_count": 17,
   "metadata": {},
   "outputs": [],
   "source": [
    "from sklearn.metrics import confusion_matrix"
   ]
  },
  {
   "cell_type": "code",
   "execution_count": 18,
   "metadata": {},
   "outputs": [
    {
     "name": "stdout",
     "output_type": "stream",
     "text": [
      "confusion matrix:\n",
      "[[224   0   0   0   0   0   0   0   0   0   0   0   0   0   2   5   0   0\n",
      "    1  13]\n",
      " [  1 267   5   5   2   8   1   1   0   0   0   2   3   2   1   0   0   0\n",
      "    0   0]\n",
      " [  1  13 230  24   4  10   5   0   0   0   0   1   2   1   0   0   0   0\n",
      "    1   0]\n",
      " [  0   9  21 242   7   2  10   1   0   0   1   1   7   0   0   0   0   0\n",
      "    0   0]\n",
      " [  0   1   5   5 233   2   2   2   1   0   0   3   1   0   1   0   0   0\n",
      "    0   0]\n",
      " [  0  20   6   3   1 260   0   0   0   2   0   1   0   0   2   0   2   0\n",
      "    0   0]\n",
      " [  0   2   5  12   3   1 235  10   2   3   1   0   7   0   2   0   2   1\n",
      "    4   0]\n",
      " [  0   1   0   0   1   0   8 300   4   1   0   0   1   2   3   0   2   0\n",
      "    1   0]\n",
      " [  0   1   0   0   0   2   2   3 283   0   0   0   1   0   0   0   0   0\n",
      "    1   1]\n",
      " [  0   1   1   0   1   2   1   2   0 297   8   1   0   1   0   0   0   0\n",
      "    0   0]\n",
      " [  0   0   0   0   0   0   0   0   2   2 298   0   0   0   0   0   0   0\n",
      "    0   0]\n",
      " [  0   1   2   0   0   1   1   0   0   0   0 284   2   1   0   0   2   1\n",
      "    2   0]\n",
      " [  0  11   3   5   4   2   4   5   1   1   0   4 266   1   4   0   1   0\n",
      "    1   0]\n",
      " [  1   1   0   1   0   2   1   0   0   0   0   0   1 266   2   1   0   0\n",
      "    1   0]\n",
      " [  0   3   0   0   1   1   0   0   0   0   0   1   0   1 296   0   1   0\n",
      "    1   0]\n",
      " [  3   1   0   1   0   0   0   0   0   0   1   0   0   2   1 280   0   1\n",
      "    1   2]\n",
      " [  1   0   2   0   0   0   0   0   1   0   0   0   0   0   0   0 236   1\n",
      "    4   1]\n",
      " [  1   0   0   0   0   1   0   0   0   0   0   0   0   0   0   3   0 290\n",
      "    1   0]\n",
      " [  2   1   0   0   1   1   0   1   0   0   0   0   0   0   0   1  10   7\n",
      "  212   0]\n",
      " [ 16   0   0   0   0   0   0   0   0   0   0   0   0   0   0  12   4   1\n",
      "    4 134]]\n"
     ]
    }
   ],
   "source": [
    "cm = confusion_matrix(y_test, pred)\n",
    "print('confusion matrix:')\n",
    "print(cm)"
   ]
  },
  {
   "cell_type": "code",
   "execution_count": 19,
   "metadata": {},
   "outputs": [
    {
     "data": {
      "text/plain": [
       "<matplotlib.colorbar.Colorbar at 0x1a13bc7ba8>"
      ]
     },
     "execution_count": 19,
     "metadata": {},
     "output_type": "execute_result"
    },
    {
     "data": {
      "image/png": "[encoded data removed]",
      "text/plain": [
       "<Figure size 1152x1152 with 3 Axes>"
      ]
     },
     "metadata": {
      "needs_background": "light"
     },
     "output_type": "display_data"
    }
   ],
   "source": [
    "plt.figure(figsize=(8, 8), dpi=144)\n",
    "plt.title('Confusion matrix of the classifier')\n",
    "ax = plt.gca()\n",
    "ax.spines['right'].set_color('none')\n",
    "ax.spines['top'].set_color('none')\n",
    "ax.spines['bottom'].set_color('none')\n",
    "ax.spines['left'].set_color('none')\n",
    "ax.xaxis.set_ticks_position('none')\n",
    "ax.yaxis.set_ticks_position('none')\n",
    "ax.set_xticklabels([])\n",
    "ax.set_yticklabels([])\n",
    "plt.matshow(cm, fignum=1, cmap='gray')\n",
    "plt.colorbar()"
   ]
  },
  {
   "cell_type": "code",
   "execution_count": null,
   "metadata": {},
   "outputs": [],
   "source": []
  }
 ],
 "metadata": {
  "kernelspec": {
   "display_name": "Python 3",
   "language": "python",
   "name": "python3"
  },
  "language_info": {
   "codemirror_mode": {
    "name": "ipython",
    "version": 3
   },
   "file_extension": ".py",
   "mimetype": "text/x-python",
   "name": "python",
   "nbconvert_exporter": "python",
   "pygments_lexer": "ipython3",
   "version": "3.6.6"
  }
 },
 "nbformat": 4,
 "nbformat_minor": 2
}
