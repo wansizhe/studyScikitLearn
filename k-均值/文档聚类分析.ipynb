{
 "cells": [
  {
   "cell_type": "code",
   "execution_count": 1,
   "metadata": {},
   "outputs": [],
   "source": [
    "%matplotlib inline\n",
    "import numpy as np\n",
    "import matplotlib.pyplot as plt"
   ]
  },
  {
   "cell_type": "code",
   "execution_count": 2,
   "metadata": {},
   "outputs": [],
   "source": [
    "from time import time\n",
    "from sklearn.datasets import load_files"
   ]
  },
  {
   "cell_type": "code",
   "execution_count": 4,
   "metadata": {},
   "outputs": [
    {
     "name": "stdout",
     "output_type": "stream",
     "text": [
      "loading documents ...\n",
      "summary: 3949 documents in 4 categories.\n",
      "done in 0.1471869945526123 seconds\n"
     ]
    }
   ],
   "source": [
    "print('loading documents ...')\n",
    "t = time()\n",
    "docs = load_files('../../data/clustering/data')\n",
    "print('summary: {0} documents in {1} categories.'.format(\n",
    "    len(docs.data), len(docs.target_names)\n",
    "))\n",
    "print('done in {0} seconds'.format(time()-t))"
   ]
  },
  {
   "cell_type": "code",
   "execution_count": 5,
   "metadata": {},
   "outputs": [],
   "source": [
    "from sklearn.feature_extraction.text import TfidfVectorizer"
   ]
  },
  {
   "cell_type": "code",
   "execution_count": 6,
   "metadata": {},
   "outputs": [
    {
     "name": "stdout",
     "output_type": "stream",
     "text": [
      "vectorizing documents ...\n",
      "n_samples: 3949, n_features: 20000\n",
      "number of non-zero features in sample [../../data/clustering/data/sci.electronics/11902-54322]: 56\n",
      "done in 1.003140926361084 seconds\n"
     ]
    }
   ],
   "source": [
    "max_feature = 20000\n",
    "print('vectorizing documents ...')\n",
    "t = time()\n",
    "vectorizer = TfidfVectorizer(max_df=0.4, min_df=2, max_features=max_feature, encoding='latin-1')\n",
    "X = vectorizer.fit_transform((d for d in docs.data))\n",
    "print('n_samples: %d, n_features: %d' % X.shape)\n",
    "print('number of non-zero features in sample [{0}]: {1}'.format(\n",
    "    docs.filenames[0], X[0].getnnz()\n",
    "))\n",
    "print('done in {0} seconds'.format(time() - t))"
   ]
  },
  {
   "cell_type": "code",
   "execution_count": 8,
   "metadata": {},
   "outputs": [],
   "source": [
    "from sklearn.cluster import KMeans"
   ]
  },
  {
   "cell_type": "code",
   "execution_count": 9,
   "metadata": {},
   "outputs": [
    {
     "name": "stdout",
     "output_type": "stream",
     "text": [
      "clustering documents ...\n",
      "Initialization complete\n",
      "Iteration  0, inertia 7585.179\n",
      "Iteration  1, inertia 3842.962\n",
      "Iteration  2, inertia 3833.521\n",
      "Iteration  3, inertia 3829.528\n",
      "Iteration  4, inertia 3826.735\n",
      "Iteration  5, inertia 3825.316\n",
      "Iteration  6, inertia 3824.575\n",
      "Iteration  7, inertia 3824.155\n",
      "Iteration  8, inertia 3823.712\n",
      "Iteration  9, inertia 3823.208\n",
      "Iteration 10, inertia 3822.461\n",
      "Iteration 11, inertia 3821.598\n",
      "Iteration 12, inertia 3821.221\n",
      "Iteration 13, inertia 3820.839\n",
      "Iteration 14, inertia 3820.168\n",
      "Iteration 15, inertia 3819.122\n",
      "Iteration 16, inertia 3818.816\n",
      "Iteration 17, inertia 3818.596\n",
      "Iteration 18, inertia 3818.441\n",
      "Iteration 19, inertia 3818.340\n",
      "Iteration 20, inertia 3818.234\n",
      "Iteration 21, inertia 3818.145\n",
      "Iteration 22, inertia 3818.075\n",
      "Iteration 23, inertia 3818.028\n",
      "Iteration 24, inertia 3818.006\n",
      "Iteration 25, inertia 3817.955\n",
      "Iteration 26, inertia 3817.913\n",
      "Iteration 27, inertia 3817.892\n",
      "Iteration 28, inertia 3817.881\n",
      "Iteration 29, inertia 3817.874\n",
      "Iteration 30, inertia 3817.857\n",
      "Iteration 31, inertia 3817.848\n",
      "Iteration 32, inertia 3817.846\n",
      "Converged at iteration 32: center shift 0.000000e+00 within tolerance 4.896692e-07\n",
      "Initialization complete\n",
      "Iteration  0, inertia 7535.885\n",
      "Iteration  1, inertia 3845.552\n",
      "Iteration  2, inertia 3833.454\n",
      "Iteration  3, inertia 3825.951\n",
      "Iteration  4, inertia 3823.207\n",
      "Iteration  5, inertia 3822.416\n",
      "Iteration  6, inertia 3821.857\n",
      "Iteration  7, inertia 3821.192\n",
      "Iteration  8, inertia 3820.145\n",
      "Iteration  9, inertia 3819.302\n",
      "Iteration 10, inertia 3818.802\n",
      "Iteration 11, inertia 3818.617\n",
      "Iteration 12, inertia 3818.500\n",
      "Iteration 13, inertia 3818.246\n",
      "Iteration 14, inertia 3817.926\n",
      "Iteration 15, inertia 3817.850\n",
      "Iteration 16, inertia 3817.804\n",
      "Iteration 17, inertia 3817.791\n",
      "Iteration 18, inertia 3817.785\n",
      "Iteration 19, inertia 3817.783\n",
      "Converged at iteration 19: center shift 0.000000e+00 within tolerance 4.896692e-07\n",
      "Initialization complete\n",
      "Iteration  0, inertia 7631.554\n",
      "Iteration  1, inertia 3852.258\n",
      "Iteration  2, inertia 3837.398\n",
      "Iteration  3, inertia 3828.436\n",
      "Iteration  4, inertia 3823.852\n",
      "Iteration  5, inertia 3822.297\n",
      "Iteration  6, inertia 3821.539\n",
      "Iteration  7, inertia 3821.011\n",
      "Iteration  8, inertia 3820.511\n",
      "Iteration  9, inertia 3819.925\n",
      "Iteration 10, inertia 3819.677\n",
      "Iteration 11, inertia 3819.528\n",
      "Iteration 12, inertia 3819.384\n",
      "Iteration 13, inertia 3819.243\n",
      "Iteration 14, inertia 3819.170\n",
      "Iteration 15, inertia 3819.083\n",
      "Iteration 16, inertia 3818.959\n",
      "Iteration 17, inertia 3818.878\n",
      "Iteration 18, inertia 3818.798\n",
      "Iteration 19, inertia 3818.736\n",
      "Iteration 20, inertia 3818.626\n",
      "Iteration 21, inertia 3818.549\n",
      "Iteration 22, inertia 3818.454\n",
      "Iteration 23, inertia 3817.961\n",
      "Iteration 24, inertia 3817.502\n",
      "Iteration 25, inertia 3817.165\n",
      "Iteration 26, inertia 3817.011\n",
      "Iteration 27, inertia 3816.987\n",
      "Iteration 28, inertia 3816.986\n",
      "Iteration 29, inertia 3816.984\n",
      "Converged at iteration 29: center shift 0.000000e+00 within tolerance 4.896692e-07\n",
      "kmean: k=4, cost=3816\n",
      "done in 22.550679922103882 seconds\n"
     ]
    }
   ],
   "source": [
    "print('clustering documents ...')\n",
    "t = time()\n",
    "n_clusters = 4\n",
    "kmean = KMeans(n_clusters=n_clusters, max_iter=100, tol=0.01, verbose=1, n_init=3)\n",
    "kmean.fit(X)\n",
    "print('kmean: k={}, cost={}'.format(n_clusters, int(kmean.inertia_)))\n",
    "print('done in {0} seconds'.format(time() - t))"
   ]
  },
  {
   "cell_type": "code",
   "execution_count": 10,
   "metadata": {},
   "outputs": [
    {
     "data": {
      "text/plain": [
       "array([2, 2, 2, 2, 0, 2, 1, 2, 0, 2, 2, 2, 2, 0, 0, 2, 1, 2, 0, 2, 0, 2,\n",
       "       0, 0, 0, 2, 2, 0, 1, 0, 2, 2, 2, 0, 2, 0, 2, 1, 3, 2, 0, 1, 0, 1,\n",
       "       3, 3, 0, 2, 2, 2, 1, 2, 0, 0, 2, 2, 2, 2, 2, 0, 0, 1, 2, 2, 2, 0,\n",
       "       2, 2, 2, 2, 2, 0, 2, 1, 0, 1, 2, 2, 2, 1, 2, 1, 0, 1, 1, 1, 2, 3,\n",
       "       2, 2, 0, 0, 2, 1, 1, 2, 2, 2, 0, 0], dtype=int32)"
      ]
     },
     "execution_count": 10,
     "metadata": {},
     "output_type": "execute_result"
    }
   ],
   "source": [
    "kmean.labels_[:100]"
   ]
  },
  {
   "cell_type": "code",
   "execution_count": 11,
   "metadata": {},
   "outputs": [
    {
     "data": {
      "text/plain": [
       "array(['../../data/clustering/data/sci.crypt/10888-15289',\n",
       "       '../../data/clustering/data/sci.crypt/11490-15880',\n",
       "       '../../data/clustering/data/sci.crypt/11270-15346',\n",
       "       '../../data/clustering/data/sci.electronics/12383-53525',\n",
       "       '../../data/clustering/data/sci.space/13826-60862',\n",
       "       '../../data/clustering/data/sci.electronics/11631-54106',\n",
       "       '../../data/clustering/data/sci.space/14235-61437',\n",
       "       '../../data/clustering/data/sci.crypt/11508-15928',\n",
       "       '../../data/clustering/data/sci.space/13593-60824',\n",
       "       '../../data/clustering/data/sci.electronics/12304-52801'],\n",
       "      dtype='<U54')"
      ]
     },
     "execution_count": 11,
     "metadata": {},
     "output_type": "execute_result"
    }
   ],
   "source": [
    "docs.filenames[1000:1010]"
   ]
  },
  {
   "cell_type": "code",
   "execution_count": 13,
   "metadata": {},
   "outputs": [
    {
     "name": "stdout",
     "output_type": "stream",
     "text": [
      "Top term per cluster:\n",
      "Cluster 0: space my we some by he who she do msg\n",
      "Cluster 1: key clipper encryption chip government keys will escrow we nsa\n",
      "Cluster 2: any know by my me ca anyone thanks will your\n",
      "Cluster 3: henry toronto zoo spencer hst zoology mission utzoo orbit space\n"
     ]
    }
   ],
   "source": [
    "print('Top term per cluster:')\n",
    "order_centroids = kmean.cluster_centers_.argsort()[:, ::-1]\n",
    "term = vectorizer.get_feature_names()\n",
    "for i in range(n_clusters):\n",
    "    print('Cluster %d:' % i, end='')\n",
    "    for ind in order_centroids[i, :10]:\n",
    "        print(' %s' % term[ind], end='')\n",
    "    print()"
   ]
  },
  {
   "cell_type": "code",
   "execution_count": null,
   "metadata": {},
   "outputs": [],
   "source": []
  }
 ],
 "metadata": {
  "kernelspec": {
   "display_name": "Python 3",
   "language": "python",
   "name": "python3"
  },
  "language_info": {
   "codemirror_mode": {
    "name": "ipython",
    "version": 3
   },
   "file_extension": ".py",
   "mimetype": "text/x-python",
   "name": "python",
   "nbconvert_exporter": "python",
   "pygments_lexer": "ipython3",
   "version": "3.6.6"
  }
 },
 "nbformat": 4,
 "nbformat_minor": 2
}
