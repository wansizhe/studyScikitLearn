{
 "cells": [
  {
   "cell_type": "code",
   "execution_count": 1,
   "metadata": {},
   "outputs": [],
   "source": [
    "%matplotlib inline\n",
    "import numpy as np\n",
    "import matplotlib.pyplot as plt"
   ]
  },
  {
   "cell_type": "code",
   "execution_count": 2,
   "metadata": {},
   "outputs": [],
   "source": [
    "n_dots = 200\n",
    "X = np.linspace(-2*np.pi, 2*np.pi, n_dots)\n",
    "Y = np.sin(X) + 0.2 * np.random.rand(n_dots) - 0.1\n",
    "X = X.reshape(-1, 1)\n",
    "Y = Y.reshape(-1, 1)"
   ]
  },
  {
   "cell_type": "code",
   "execution_count": 3,
   "metadata": {},
   "outputs": [],
   "source": [
    "from sklearn.linear_model import LinearRegression\n",
    "from sklearn.preprocessing import PolynomialFeatures\n",
    "from sklearn.pipeline import Pipeline"
   ]
  },
  {
   "cell_type": "code",
   "execution_count": 4,
   "metadata": {},
   "outputs": [],
   "source": [
    "def polynomial_model(degree=1):\n",
    "    polynomial_features = PolynomialFeatures(degree=degree, include_bias=False)\n",
    "    linear_regression = LinearRegression(normalize=True)\n",
    "    pipline = Pipeline([(\"polynomial_features\", polynomial_features), (\"linear_regression\", linear_regression)])\n",
    "    return pipline"
   ]
  },
  {
   "cell_type": "code",
   "execution_count": 5,
   "metadata": {},
   "outputs": [],
   "source": [
    "from sklearn.metrics import mean_squared_error"
   ]
  },
  {
   "cell_type": "code",
   "execution_count": 6,
   "metadata": {},
   "outputs": [
    {
     "name": "stdout",
     "output_type": "stream",
     "text": [
      "degree: 2; train score: 0.11666086179009827; mean squared error: 0.5320550529426891\n",
      "degree: 3; train score: 0.21642350613136843; mean squared error: 0.4719657659172518\n",
      "degree: 5; train score: 0.7901978641639715; mean squared error: 0.12636855049345996\n",
      "degree: 10; train score: 0.8710643630174454; mean squared error: 0.07766083737665348\n"
     ]
    }
   ],
   "source": [
    "degrees = [2, 3, 5, 10]\n",
    "results = []\n",
    "for d in degrees:\n",
    "    model = polynomial_model(degree=d)\n",
    "    model.fit(X, Y)\n",
    "    train_score = model.score(X, Y)\n",
    "    mse = mean_squared_error(Y, model.predict(X))\n",
    "    results.append({\"model\": model, \"degree\": d, \"score\": train_score, \"mse\": mse})\n",
    "for r in results:\n",
    "    print(\"degree: {}; train score: {}; mean squared error: {}\".format(r[\"degree\"], r[\"score\"], r[\"mse\"]))"
   ]
  },
  {
   "cell_type": "code",
   "execution_count": null,
   "metadata": {},
   "outputs": [],
   "source": []
  }
 ],
 "metadata": {
  "kernelspec": {
   "display_name": "Python 3",
   "language": "python",
   "name": "python3"
  },
  "language_info": {
   "codemirror_mode": {
    "name": "ipython",
    "version": 3
   },
   "file_extension": ".py",
   "mimetype": "text/x-python",
   "name": "python",
   "nbconvert_exporter": "python",
   "pygments_lexer": "ipython3",
   "version": "3.6.6"
  }
 },
 "nbformat": 4,
 "nbformat_minor": 2
}
